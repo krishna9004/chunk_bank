{
 "cells": [
  {
   "cell_type": "code",
   "execution_count": 4,
   "metadata": {
    "_cell_guid": "b1076dfc-b9ad-4769-8c92-a6c4dae69d19",
    "_uuid": "8f2839f25d086af736a60e9eeb907d3b93b6e0e5",
    "execution": {
     "iopub.execute_input": "2023-08-22T06:19:53.907816Z",
     "iopub.status.busy": "2023-08-22T06:19:53.907335Z",
     "iopub.status.idle": "2023-08-22T06:19:53.927823Z",
     "shell.execute_reply": "2023-08-22T06:19:53.926175Z",
     "shell.execute_reply.started": "2023-08-22T06:19:53.907779Z"
    }
   },
   "outputs": [
    {
     "name": "stdout",
     "output_type": "stream",
     "text": [
      "/kaggle/input/bank-chunk/Churn_Modelling.csv\n"
     ]
    }
   ],
   "source": [
    "# This Python 3 environment comes with many helpful analytics libraries installed\n",
    "# It is defined by the kaggle/python Docker image: https://github.com/kaggle/docker-python\n",
    "# For example, here's several helpful packages to load\n",
    "\n",
    "import numpy as np # linear algebra\n",
    "import pandas as pd # data processing, CSV file I/O (e.g. pd.read_csv)\n",
    "\n",
    "# Input data files are available in the read-only \"../input/\" directory\n",
    "# For example, running this (by clicking run or pressing Shift+Enter) will list all files under the input directory\n",
    "\n",
    "import os\n",
    "for dirname, _, filenames in os.walk('/kaggle/input'):\n",
    "    for filename in filenames:\n",
    "        print(os.path.join(dirname, filename))\n",
    "\n",
    "# You can write up to 20GB to the current directory (/kaggle/working/) that gets preserved as output when you create a version using \"Save & Run All\" \n",
    "# You can also write temporary files to /kaggle/temp/, but they won't be saved outside of the current session"
   ]
  },
  {
   "cell_type": "code",
   "execution_count": 5,
   "metadata": {
    "execution": {
     "iopub.execute_input": "2023-08-22T06:19:54.476185Z",
     "iopub.status.busy": "2023-08-22T06:19:54.475707Z",
     "iopub.status.idle": "2023-08-22T06:19:54.482961Z",
     "shell.execute_reply": "2023-08-22T06:19:54.481478Z",
     "shell.execute_reply.started": "2023-08-22T06:19:54.476142Z"
    }
   },
   "outputs": [],
   "source": [
    "import numpy as np\n",
    "import matplotlib.pyplot as plt\n",
    "import pandas as pd"
   ]
  },
  {
   "cell_type": "code",
   "execution_count": 6,
   "metadata": {
    "execution": {
     "iopub.execute_input": "2023-08-22T06:19:54.916408Z",
     "iopub.status.busy": "2023-08-22T06:19:54.915955Z",
     "iopub.status.idle": "2023-08-22T06:19:54.979493Z",
     "shell.execute_reply": "2023-08-22T06:19:54.977629Z",
     "shell.execute_reply.started": "2023-08-22T06:19:54.916371Z"
    }
   },
   "outputs": [],
   "source": [
    "dataset = pd.read_csv('../input/bank-chunk/Churn_Modelling.csv')"
   ]
  },
  {
   "cell_type": "code",
   "execution_count": 7,
   "metadata": {
    "execution": {
     "iopub.execute_input": "2023-08-22T06:19:55.247425Z",
     "iopub.status.busy": "2023-08-22T06:19:55.246298Z",
     "iopub.status.idle": "2023-08-22T06:19:55.260381Z",
     "shell.execute_reply": "2023-08-22T06:19:55.259052Z",
     "shell.execute_reply.started": "2023-08-22T06:19:55.247206Z"
    }
   },
   "outputs": [],
   "source": [
    "X = dataset.iloc[:, 3:13]\n",
    "y = dataset.iloc[:, 13]"
   ]
  },
  {
   "cell_type": "code",
   "execution_count": 8,
   "metadata": {
    "execution": {
     "iopub.execute_input": "2023-08-22T06:19:55.556813Z",
     "iopub.status.busy": "2023-08-22T06:19:55.556390Z",
     "iopub.status.idle": "2023-08-22T06:19:55.577515Z",
     "shell.execute_reply": "2023-08-22T06:19:55.575534Z",
     "shell.execute_reply.started": "2023-08-22T06:19:55.556779Z"
    }
   },
   "outputs": [],
   "source": [
    "#Create dummy variables\n",
    "geography=pd.get_dummies(X[\"Geography\"],drop_first=True)\n",
    "gender=pd.get_dummies(X['Gender'],drop_first=True)"
   ]
  },
  {
   "cell_type": "code",
   "execution_count": 9,
   "metadata": {
    "execution": {
     "iopub.execute_input": "2023-08-22T06:19:55.888239Z",
     "iopub.status.busy": "2023-08-22T06:19:55.887337Z",
     "iopub.status.idle": "2023-08-22T06:19:55.906952Z",
     "shell.execute_reply": "2023-08-22T06:19:55.904213Z",
     "shell.execute_reply.started": "2023-08-22T06:19:55.888170Z"
    }
   },
   "outputs": [],
   "source": [
    "## Concatenate the Data Frames\n",
    "\n",
    "X=pd.concat([X,geography,gender],axis=1)"
   ]
  },
  {
   "cell_type": "code",
   "execution_count": 10,
   "metadata": {
    "execution": {
     "iopub.execute_input": "2023-08-22T06:19:56.125329Z",
     "iopub.status.busy": "2023-08-22T06:19:56.124865Z",
     "iopub.status.idle": "2023-08-22T06:19:56.136293Z",
     "shell.execute_reply": "2023-08-22T06:19:56.134475Z",
     "shell.execute_reply.started": "2023-08-22T06:19:56.125292Z"
    }
   },
   "outputs": [],
   "source": [
    "## Drop Unnecessary columns\n",
    "X=X.drop(['Geography','Gender'],axis=1)"
   ]
  },
  {
   "cell_type": "code",
   "execution_count": 11,
   "metadata": {
    "execution": {
     "iopub.execute_input": "2023-08-22T06:19:56.410255Z",
     "iopub.status.busy": "2023-08-22T06:19:56.409541Z",
     "iopub.status.idle": "2023-08-22T06:19:56.421391Z",
     "shell.execute_reply": "2023-08-22T06:19:56.419563Z",
     "shell.execute_reply.started": "2023-08-22T06:19:56.410216Z"
    }
   },
   "outputs": [],
   "source": [
    "# Splitting the dataset into the Training set and Test set\n",
    "from sklearn.model_selection import train_test_split\n",
    "X_train, X_test, y_train, y_test = train_test_split(X, y, test_size = 0.2, random_state = 0)"
   ]
  },
  {
   "cell_type": "code",
   "execution_count": 12,
   "metadata": {
    "execution": {
     "iopub.execute_input": "2023-08-22T06:19:56.662529Z",
     "iopub.status.busy": "2023-08-22T06:19:56.661225Z",
     "iopub.status.idle": "2023-08-22T06:19:56.680034Z",
     "shell.execute_reply": "2023-08-22T06:19:56.678480Z",
     "shell.execute_reply.started": "2023-08-22T06:19:56.662469Z"
    }
   },
   "outputs": [],
   "source": [
    "# Feature Scaling\n",
    "from sklearn.preprocessing import StandardScaler\n",
    "sc = StandardScaler()\n",
    "X_train = sc.fit_transform(X_train)\n",
    "X_test = sc.transform(X_test)\n"
   ]
  },
  {
   "cell_type": "code",
   "execution_count": 13,
   "metadata": {
    "execution": {
     "iopub.execute_input": "2023-08-22T06:19:56.933091Z",
     "iopub.status.busy": "2023-08-22T06:19:56.932609Z",
     "iopub.status.idle": "2023-08-22T06:19:56.939834Z",
     "shell.execute_reply": "2023-08-22T06:19:56.937717Z",
     "shell.execute_reply.started": "2023-08-22T06:19:56.933052Z"
    }
   },
   "outputs": [],
   "source": [
    "# Part 2 - Now let's make the ANN!"
   ]
  },
  {
   "cell_type": "code",
   "execution_count": 14,
   "metadata": {
    "execution": {
     "iopub.execute_input": "2023-08-22T06:19:57.436640Z",
     "iopub.status.busy": "2023-08-22T06:19:57.435291Z",
     "iopub.status.idle": "2023-08-22T06:20:08.765691Z",
     "shell.execute_reply": "2023-08-22T06:20:08.763579Z",
     "shell.execute_reply.started": "2023-08-22T06:19:57.436580Z"
    }
   },
   "outputs": [
    {
     "name": "stderr",
     "output_type": "stream",
     "text": [
      "/opt/conda/lib/python3.10/site-packages/tensorflow_io/python/ops/__init__.py:98: UserWarning: unable to load libtensorflow_io_plugins.so: unable to open file: libtensorflow_io_plugins.so, from paths: ['/opt/conda/lib/python3.10/site-packages/tensorflow_io/python/ops/libtensorflow_io_plugins.so']\n",
      "caused by: ['/opt/conda/lib/python3.10/site-packages/tensorflow_io/python/ops/libtensorflow_io_plugins.so: undefined symbol: _ZN3tsl6StatusC1EN10tensorflow5error4CodeESt17basic_string_viewIcSt11char_traitsIcEENS_14SourceLocationE']\n",
      "  warnings.warn(f\"unable to load libtensorflow_io_plugins.so: {e}\")\n",
      "/opt/conda/lib/python3.10/site-packages/tensorflow_io/python/ops/__init__.py:104: UserWarning: file system plugins are not loaded: unable to open file: libtensorflow_io.so, from paths: ['/opt/conda/lib/python3.10/site-packages/tensorflow_io/python/ops/libtensorflow_io.so']\n",
      "caused by: ['/opt/conda/lib/python3.10/site-packages/tensorflow_io/python/ops/libtensorflow_io.so: undefined symbol: _ZTVN10tensorflow13GcsFileSystemE']\n",
      "  warnings.warn(f\"file system plugins are not loaded: {e}\")\n"
     ]
    }
   ],
   "source": [
    "# Importing the Keras libraries and packages\n",
    "import keras\n",
    "from keras.models import Sequential\n",
    "from keras.layers import Dense\n",
    "from keras.layers import LeakyReLU,PReLU,ELU\n",
    "from keras.layers import Dropout"
   ]
  },
  {
   "cell_type": "code",
   "execution_count": 15,
   "metadata": {
    "execution": {
     "iopub.execute_input": "2023-08-22T06:20:08.770490Z",
     "iopub.status.busy": "2023-08-22T06:20:08.768723Z",
     "iopub.status.idle": "2023-08-22T06:20:08.901712Z",
     "shell.execute_reply": "2023-08-22T06:20:08.899539Z",
     "shell.execute_reply.started": "2023-08-22T06:20:08.770415Z"
    }
   },
   "outputs": [],
   "source": [
    "# Initialising the ANN\n",
    "classifier = Sequential()"
   ]
  },
  {
   "cell_type": "code",
   "execution_count": 16,
   "metadata": {
    "execution": {
     "iopub.execute_input": "2023-08-22T06:20:08.905146Z",
     "iopub.status.busy": "2023-08-22T06:20:08.904550Z",
     "iopub.status.idle": "2023-08-22T06:20:08.994673Z",
     "shell.execute_reply": "2023-08-22T06:20:08.992688Z",
     "shell.execute_reply.started": "2023-08-22T06:20:08.905097Z"
    }
   },
   "outputs": [],
   "source": [
    "# Adding the input layer and the first hidden layer\n",
    "classifier.add(Dense(units = 10, kernel_initializer = 'he_normal',activation='relu',input_dim = 11))"
   ]
  },
  {
   "cell_type": "code",
   "execution_count": 17,
   "metadata": {
    "execution": {
     "iopub.execute_input": "2023-08-22T06:20:08.998565Z",
     "iopub.status.busy": "2023-08-22T06:20:08.998074Z",
     "iopub.status.idle": "2023-08-22T06:20:09.033697Z",
     "shell.execute_reply": "2023-08-22T06:20:09.032298Z",
     "shell.execute_reply.started": "2023-08-22T06:20:08.998526Z"
    }
   },
   "outputs": [],
   "source": [
    "# Adding the second hidden layer\n",
    "classifier.add(Dense(units = 20, kernel_initializer = 'he_normal',activation='relu'))"
   ]
  },
  {
   "cell_type": "code",
   "execution_count": 18,
   "metadata": {
    "execution": {
     "iopub.execute_input": "2023-08-22T06:20:09.036287Z",
     "iopub.status.busy": "2023-08-22T06:20:09.035842Z",
     "iopub.status.idle": "2023-08-22T06:20:09.068833Z",
     "shell.execute_reply": "2023-08-22T06:20:09.067334Z",
     "shell.execute_reply.started": "2023-08-22T06:20:09.036251Z"
    }
   },
   "outputs": [],
   "source": [
    "# Adding the third hidden layer\n",
    "classifier.add(Dense(units = 15, kernel_initializer = 'he_normal',activation='relu'))"
   ]
  },
  {
   "cell_type": "code",
   "execution_count": 19,
   "metadata": {
    "execution": {
     "iopub.execute_input": "2023-08-22T06:20:09.071241Z",
     "iopub.status.busy": "2023-08-22T06:20:09.070791Z",
     "iopub.status.idle": "2023-08-22T06:20:09.103852Z",
     "shell.execute_reply": "2023-08-22T06:20:09.102068Z",
     "shell.execute_reply.started": "2023-08-22T06:20:09.071201Z"
    }
   },
   "outputs": [],
   "source": [
    "# Adding the output layer\n",
    "classifier.add(Dense(units = 1, kernel_initializer = 'glorot_normal', activation = 'sigmoid'))"
   ]
  },
  {
   "cell_type": "code",
   "execution_count": 20,
   "metadata": {
    "execution": {
     "iopub.execute_input": "2023-08-22T06:20:09.106936Z",
     "iopub.status.busy": "2023-08-22T06:20:09.105983Z",
     "iopub.status.idle": "2023-08-22T06:20:09.135687Z",
     "shell.execute_reply": "2023-08-22T06:20:09.134038Z",
     "shell.execute_reply.started": "2023-08-22T06:20:09.106867Z"
    }
   },
   "outputs": [],
   "source": [
    "# Compiling the ANN\n",
    "classifier.compile(optimizer = 'adam', loss = 'binary_crossentropy', metrics = ['accuracy'])"
   ]
  },
  {
   "cell_type": "code",
   "execution_count": 21,
   "metadata": {
    "execution": {
     "iopub.execute_input": "2023-08-22T06:20:09.138022Z",
     "iopub.status.busy": "2023-08-22T06:20:09.137598Z",
     "iopub.status.idle": "2023-08-22T06:23:51.474888Z",
     "shell.execute_reply": "2023-08-22T06:23:51.472916Z",
     "shell.execute_reply.started": "2023-08-22T06:20:09.137986Z"
    }
   },
   "outputs": [
    {
     "name": "stdout",
     "output_type": "stream",
     "text": [
      "Epoch 1/100\n",
      "536/536 [==============================] - 4s 5ms/step - loss: 0.4739 - accuracy: 0.7946 - val_loss: 0.4590 - val_accuracy: 0.8005\n",
      "Epoch 2/100\n",
      "536/536 [==============================] - 2s 4ms/step - loss: 0.4364 - accuracy: 0.8061 - val_loss: 0.4448 - val_accuracy: 0.8001\n",
      "Epoch 3/100\n",
      "536/536 [==============================] - 2s 4ms/step - loss: 0.4237 - accuracy: 0.8127 - val_loss: 0.4351 - val_accuracy: 0.8088\n",
      "Epoch 4/100\n",
      "536/536 [==============================] - 2s 4ms/step - loss: 0.4142 - accuracy: 0.8212 - val_loss: 0.4279 - val_accuracy: 0.8084\n",
      "Epoch 5/100\n",
      "536/536 [==============================] - 2s 4ms/step - loss: 0.4043 - accuracy: 0.8302 - val_loss: 0.4242 - val_accuracy: 0.8141\n",
      "Epoch 6/100\n",
      "536/536 [==============================] - 2s 4ms/step - loss: 0.3965 - accuracy: 0.8317 - val_loss: 0.4153 - val_accuracy: 0.8175\n",
      "Epoch 7/100\n",
      "536/536 [==============================] - 2s 4ms/step - loss: 0.3885 - accuracy: 0.8350 - val_loss: 0.4159 - val_accuracy: 0.8194\n",
      "Epoch 8/100\n",
      "536/536 [==============================] - 2s 4ms/step - loss: 0.3819 - accuracy: 0.8386 - val_loss: 0.4087 - val_accuracy: 0.8258\n",
      "Epoch 9/100\n",
      "536/536 [==============================] - 2s 4ms/step - loss: 0.3752 - accuracy: 0.8406 - val_loss: 0.4033 - val_accuracy: 0.8315\n",
      "Epoch 10/100\n",
      "536/536 [==============================] - 2s 4ms/step - loss: 0.3697 - accuracy: 0.8472 - val_loss: 0.3980 - val_accuracy: 0.8349\n",
      "Epoch 11/100\n",
      "536/536 [==============================] - 2s 4ms/step - loss: 0.3642 - accuracy: 0.8485 - val_loss: 0.3985 - val_accuracy: 0.8357\n",
      "Epoch 12/100\n",
      "536/536 [==============================] - 2s 4ms/step - loss: 0.3599 - accuracy: 0.8494 - val_loss: 0.3979 - val_accuracy: 0.8357\n",
      "Epoch 13/100\n",
      "536/536 [==============================] - 2s 4ms/step - loss: 0.3562 - accuracy: 0.8533 - val_loss: 0.3923 - val_accuracy: 0.8357\n",
      "Epoch 14/100\n",
      "536/536 [==============================] - 2s 4ms/step - loss: 0.3526 - accuracy: 0.8531 - val_loss: 0.3921 - val_accuracy: 0.8379\n",
      "Epoch 15/100\n",
      "536/536 [==============================] - 2s 4ms/step - loss: 0.3498 - accuracy: 0.8552 - val_loss: 0.3885 - val_accuracy: 0.8402\n",
      "Epoch 16/100\n",
      "536/536 [==============================] - 2s 5ms/step - loss: 0.3475 - accuracy: 0.8567 - val_loss: 0.3943 - val_accuracy: 0.8383\n",
      "Epoch 17/100\n",
      "536/536 [==============================] - 2s 4ms/step - loss: 0.3450 - accuracy: 0.8567 - val_loss: 0.3868 - val_accuracy: 0.8398\n",
      "Epoch 18/100\n",
      "536/536 [==============================] - 2s 4ms/step - loss: 0.3431 - accuracy: 0.8606 - val_loss: 0.3843 - val_accuracy: 0.8413\n",
      "Epoch 19/100\n",
      "536/536 [==============================] - 2s 4ms/step - loss: 0.3391 - accuracy: 0.8589 - val_loss: 0.3886 - val_accuracy: 0.8383\n",
      "Epoch 20/100\n",
      "536/536 [==============================] - 2s 4ms/step - loss: 0.3373 - accuracy: 0.8625 - val_loss: 0.3836 - val_accuracy: 0.8410\n",
      "Epoch 21/100\n",
      "536/536 [==============================] - 2s 4ms/step - loss: 0.3359 - accuracy: 0.8610 - val_loss: 0.3921 - val_accuracy: 0.8395\n",
      "Epoch 22/100\n",
      "536/536 [==============================] - 2s 4ms/step - loss: 0.3337 - accuracy: 0.8617 - val_loss: 0.3773 - val_accuracy: 0.8391\n",
      "Epoch 23/100\n",
      "536/536 [==============================] - 2s 4ms/step - loss: 0.3321 - accuracy: 0.8628 - val_loss: 0.3827 - val_accuracy: 0.8398\n",
      "Epoch 24/100\n",
      "536/536 [==============================] - 2s 4ms/step - loss: 0.3304 - accuracy: 0.8649 - val_loss: 0.3833 - val_accuracy: 0.8413\n",
      "Epoch 25/100\n",
      "536/536 [==============================] - 2s 4ms/step - loss: 0.3296 - accuracy: 0.8638 - val_loss: 0.3809 - val_accuracy: 0.8417\n",
      "Epoch 26/100\n",
      "536/536 [==============================] - 2s 4ms/step - loss: 0.3261 - accuracy: 0.8630 - val_loss: 0.3856 - val_accuracy: 0.8417\n",
      "Epoch 27/100\n",
      "536/536 [==============================] - 2s 4ms/step - loss: 0.3262 - accuracy: 0.8643 - val_loss: 0.3779 - val_accuracy: 0.8432\n",
      "Epoch 28/100\n",
      "536/536 [==============================] - 2s 4ms/step - loss: 0.3250 - accuracy: 0.8681 - val_loss: 0.3770 - val_accuracy: 0.8425\n",
      "Epoch 29/100\n",
      "536/536 [==============================] - 2s 4ms/step - loss: 0.3225 - accuracy: 0.8675 - val_loss: 0.3771 - val_accuracy: 0.8451\n",
      "Epoch 30/100\n",
      "536/536 [==============================] - 2s 4ms/step - loss: 0.3204 - accuracy: 0.8670 - val_loss: 0.3749 - val_accuracy: 0.8459\n",
      "Epoch 31/100\n",
      "536/536 [==============================] - 2s 4ms/step - loss: 0.3195 - accuracy: 0.8688 - val_loss: 0.3741 - val_accuracy: 0.8444\n",
      "Epoch 32/100\n",
      "536/536 [==============================] - 2s 4ms/step - loss: 0.3193 - accuracy: 0.8683 - val_loss: 0.3734 - val_accuracy: 0.8455\n",
      "Epoch 33/100\n",
      "536/536 [==============================] - 2s 4ms/step - loss: 0.3161 - accuracy: 0.8686 - val_loss: 0.3732 - val_accuracy: 0.8451\n",
      "Epoch 34/100\n",
      "536/536 [==============================] - 2s 4ms/step - loss: 0.3175 - accuracy: 0.8673 - val_loss: 0.3800 - val_accuracy: 0.8444\n",
      "Epoch 35/100\n",
      "536/536 [==============================] - 2s 4ms/step - loss: 0.3156 - accuracy: 0.8714 - val_loss: 0.3766 - val_accuracy: 0.8463\n",
      "Epoch 36/100\n",
      "536/536 [==============================] - 2s 4ms/step - loss: 0.3164 - accuracy: 0.8677 - val_loss: 0.3815 - val_accuracy: 0.8470\n",
      "Epoch 37/100\n",
      "536/536 [==============================] - 2s 4ms/step - loss: 0.3134 - accuracy: 0.8703 - val_loss: 0.3762 - val_accuracy: 0.8482\n",
      "Epoch 38/100\n",
      "536/536 [==============================] - 2s 4ms/step - loss: 0.3139 - accuracy: 0.8696 - val_loss: 0.3760 - val_accuracy: 0.8478\n",
      "Epoch 39/100\n",
      "536/536 [==============================] - 2s 4ms/step - loss: 0.3128 - accuracy: 0.8701 - val_loss: 0.3772 - val_accuracy: 0.8459\n",
      "Epoch 40/100\n",
      "536/536 [==============================] - 2s 4ms/step - loss: 0.3124 - accuracy: 0.8694 - val_loss: 0.3784 - val_accuracy: 0.8436\n",
      "Epoch 41/100\n",
      "536/536 [==============================] - 2s 4ms/step - loss: 0.3103 - accuracy: 0.8720 - val_loss: 0.3848 - val_accuracy: 0.8448\n",
      "Epoch 42/100\n",
      "536/536 [==============================] - 2s 4ms/step - loss: 0.3104 - accuracy: 0.8707 - val_loss: 0.3825 - val_accuracy: 0.8463\n",
      "Epoch 43/100\n",
      "536/536 [==============================] - 2s 4ms/step - loss: 0.3093 - accuracy: 0.8716 - val_loss: 0.3847 - val_accuracy: 0.8451\n",
      "Epoch 44/100\n",
      "536/536 [==============================] - 2s 4ms/step - loss: 0.3083 - accuracy: 0.8698 - val_loss: 0.3791 - val_accuracy: 0.8463\n",
      "Epoch 45/100\n",
      "536/536 [==============================] - 2s 4ms/step - loss: 0.3082 - accuracy: 0.8714 - val_loss: 0.3837 - val_accuracy: 0.8417\n",
      "Epoch 46/100\n",
      "536/536 [==============================] - 2s 4ms/step - loss: 0.3073 - accuracy: 0.8712 - val_loss: 0.3806 - val_accuracy: 0.8478\n",
      "Epoch 47/100\n",
      "536/536 [==============================] - 2s 4ms/step - loss: 0.3062 - accuracy: 0.8726 - val_loss: 0.3809 - val_accuracy: 0.8474\n",
      "Epoch 48/100\n",
      "536/536 [==============================] - 2s 4ms/step - loss: 0.3063 - accuracy: 0.8703 - val_loss: 0.3805 - val_accuracy: 0.8485\n",
      "Epoch 49/100\n",
      "536/536 [==============================] - 2s 4ms/step - loss: 0.3052 - accuracy: 0.8726 - val_loss: 0.3792 - val_accuracy: 0.8497\n",
      "Epoch 50/100\n",
      "536/536 [==============================] - 2s 4ms/step - loss: 0.3045 - accuracy: 0.8744 - val_loss: 0.3884 - val_accuracy: 0.8459\n",
      "Epoch 51/100\n",
      "536/536 [==============================] - 2s 4ms/step - loss: 0.3048 - accuracy: 0.8712 - val_loss: 0.3894 - val_accuracy: 0.8455\n",
      "Epoch 52/100\n",
      "536/536 [==============================] - 2s 4ms/step - loss: 0.3040 - accuracy: 0.8740 - val_loss: 0.3857 - val_accuracy: 0.8466\n",
      "Epoch 53/100\n",
      "536/536 [==============================] - 2s 4ms/step - loss: 0.3029 - accuracy: 0.8735 - val_loss: 0.3821 - val_accuracy: 0.8482\n",
      "Epoch 54/100\n",
      "536/536 [==============================] - 2s 4ms/step - loss: 0.3024 - accuracy: 0.8727 - val_loss: 0.3812 - val_accuracy: 0.8474\n",
      "Epoch 55/100\n",
      "536/536 [==============================] - 2s 4ms/step - loss: 0.3020 - accuracy: 0.8729 - val_loss: 0.3886 - val_accuracy: 0.8485\n",
      "Epoch 56/100\n",
      "536/536 [==============================] - 2s 4ms/step - loss: 0.3004 - accuracy: 0.8739 - val_loss: 0.3926 - val_accuracy: 0.8470\n",
      "Epoch 57/100\n",
      "536/536 [==============================] - 2s 4ms/step - loss: 0.3010 - accuracy: 0.8744 - val_loss: 0.3891 - val_accuracy: 0.8448\n",
      "Epoch 58/100\n",
      "536/536 [==============================] - 2s 4ms/step - loss: 0.2999 - accuracy: 0.8774 - val_loss: 0.3866 - val_accuracy: 0.8466\n",
      "Epoch 59/100\n",
      "536/536 [==============================] - 2s 4ms/step - loss: 0.2986 - accuracy: 0.8774 - val_loss: 0.3905 - val_accuracy: 0.8466\n",
      "Epoch 60/100\n",
      "536/536 [==============================] - 2s 4ms/step - loss: 0.2998 - accuracy: 0.8720 - val_loss: 0.3845 - val_accuracy: 0.8478\n",
      "Epoch 61/100\n",
      "536/536 [==============================] - 2s 4ms/step - loss: 0.2988 - accuracy: 0.8750 - val_loss: 0.3860 - val_accuracy: 0.8478\n",
      "Epoch 62/100\n",
      "536/536 [==============================] - 2s 4ms/step - loss: 0.2980 - accuracy: 0.8752 - val_loss: 0.3927 - val_accuracy: 0.8470\n",
      "Epoch 63/100\n",
      "536/536 [==============================] - 2s 4ms/step - loss: 0.2975 - accuracy: 0.8735 - val_loss: 0.3876 - val_accuracy: 0.8440\n",
      "Epoch 64/100\n",
      "536/536 [==============================] - 2s 4ms/step - loss: 0.2968 - accuracy: 0.8761 - val_loss: 0.3910 - val_accuracy: 0.8451\n",
      "Epoch 65/100\n",
      "536/536 [==============================] - 2s 4ms/step - loss: 0.2964 - accuracy: 0.8772 - val_loss: 0.3928 - val_accuracy: 0.8470\n",
      "Epoch 66/100\n",
      "536/536 [==============================] - 2s 4ms/step - loss: 0.2972 - accuracy: 0.8757 - val_loss: 0.3857 - val_accuracy: 0.8436\n",
      "Epoch 67/100\n",
      "536/536 [==============================] - 2s 4ms/step - loss: 0.2970 - accuracy: 0.8761 - val_loss: 0.3885 - val_accuracy: 0.8501\n",
      "Epoch 68/100\n",
      "536/536 [==============================] - 2s 4ms/step - loss: 0.2958 - accuracy: 0.8737 - val_loss: 0.3896 - val_accuracy: 0.8455\n",
      "Epoch 69/100\n",
      "536/536 [==============================] - 2s 4ms/step - loss: 0.2966 - accuracy: 0.8767 - val_loss: 0.3868 - val_accuracy: 0.8485\n",
      "Epoch 70/100\n",
      "536/536 [==============================] - 2s 4ms/step - loss: 0.2949 - accuracy: 0.8772 - val_loss: 0.3909 - val_accuracy: 0.8478\n",
      "Epoch 71/100\n",
      "536/536 [==============================] - 2s 4ms/step - loss: 0.2940 - accuracy: 0.8763 - val_loss: 0.3996 - val_accuracy: 0.8406\n",
      "Epoch 72/100\n",
      "536/536 [==============================] - 2s 4ms/step - loss: 0.2931 - accuracy: 0.8765 - val_loss: 0.4013 - val_accuracy: 0.8440\n",
      "Epoch 73/100\n",
      "536/536 [==============================] - 2s 4ms/step - loss: 0.2945 - accuracy: 0.8750 - val_loss: 0.3920 - val_accuracy: 0.8451\n",
      "Epoch 74/100\n",
      "536/536 [==============================] - 2s 4ms/step - loss: 0.2941 - accuracy: 0.8755 - val_loss: 0.3949 - val_accuracy: 0.8440\n",
      "Epoch 75/100\n",
      "536/536 [==============================] - 2s 4ms/step - loss: 0.2923 - accuracy: 0.8776 - val_loss: 0.3926 - val_accuracy: 0.8463\n",
      "Epoch 76/100\n",
      "536/536 [==============================] - 2s 4ms/step - loss: 0.2917 - accuracy: 0.8781 - val_loss: 0.3896 - val_accuracy: 0.8463\n",
      "Epoch 77/100\n",
      "536/536 [==============================] - 2s 4ms/step - loss: 0.2926 - accuracy: 0.8768 - val_loss: 0.3942 - val_accuracy: 0.8470\n",
      "Epoch 78/100\n",
      "536/536 [==============================] - 2s 4ms/step - loss: 0.2921 - accuracy: 0.8755 - val_loss: 0.3991 - val_accuracy: 0.8470\n",
      "Epoch 79/100\n",
      "536/536 [==============================] - 2s 4ms/step - loss: 0.2920 - accuracy: 0.8768 - val_loss: 0.3936 - val_accuracy: 0.8463\n",
      "Epoch 80/100\n",
      "536/536 [==============================] - 2s 4ms/step - loss: 0.2923 - accuracy: 0.8778 - val_loss: 0.3940 - val_accuracy: 0.8444\n",
      "Epoch 81/100\n",
      "536/536 [==============================] - 2s 4ms/step - loss: 0.2902 - accuracy: 0.8780 - val_loss: 0.3974 - val_accuracy: 0.8421\n",
      "Epoch 82/100\n",
      "536/536 [==============================] - 2s 4ms/step - loss: 0.2912 - accuracy: 0.8761 - val_loss: 0.3975 - val_accuracy: 0.8474\n",
      "Epoch 83/100\n",
      "536/536 [==============================] - 2s 4ms/step - loss: 0.2917 - accuracy: 0.8783 - val_loss: 0.4001 - val_accuracy: 0.8455\n",
      "Epoch 84/100\n",
      "536/536 [==============================] - 2s 4ms/step - loss: 0.2902 - accuracy: 0.8765 - val_loss: 0.3992 - val_accuracy: 0.8440\n",
      "Epoch 85/100\n",
      "536/536 [==============================] - 2s 4ms/step - loss: 0.2904 - accuracy: 0.8776 - val_loss: 0.3957 - val_accuracy: 0.8459\n",
      "Epoch 86/100\n",
      "536/536 [==============================] - 2s 4ms/step - loss: 0.2901 - accuracy: 0.8785 - val_loss: 0.3974 - val_accuracy: 0.8436\n",
      "Epoch 87/100\n",
      "536/536 [==============================] - 2s 4ms/step - loss: 0.2895 - accuracy: 0.8815 - val_loss: 0.4011 - val_accuracy: 0.8459\n",
      "Epoch 88/100\n",
      "536/536 [==============================] - 2s 4ms/step - loss: 0.2886 - accuracy: 0.8804 - val_loss: 0.3936 - val_accuracy: 0.8466\n",
      "Epoch 89/100\n",
      "536/536 [==============================] - 2s 4ms/step - loss: 0.2887 - accuracy: 0.8795 - val_loss: 0.4003 - val_accuracy: 0.8413\n",
      "Epoch 90/100\n",
      "536/536 [==============================] - 2s 4ms/step - loss: 0.2891 - accuracy: 0.8785 - val_loss: 0.3985 - val_accuracy: 0.8440\n",
      "Epoch 91/100\n",
      "536/536 [==============================] - 2s 4ms/step - loss: 0.2887 - accuracy: 0.8770 - val_loss: 0.4036 - val_accuracy: 0.8448\n",
      "Epoch 92/100\n",
      "536/536 [==============================] - 2s 4ms/step - loss: 0.2873 - accuracy: 0.8783 - val_loss: 0.4010 - val_accuracy: 0.8444\n",
      "Epoch 93/100\n",
      "536/536 [==============================] - 2s 4ms/step - loss: 0.2861 - accuracy: 0.8804 - val_loss: 0.4049 - val_accuracy: 0.8444\n",
      "Epoch 94/100\n",
      "536/536 [==============================] - 2s 4ms/step - loss: 0.2875 - accuracy: 0.8793 - val_loss: 0.4100 - val_accuracy: 0.8421\n",
      "Epoch 95/100\n",
      "536/536 [==============================] - 2s 4ms/step - loss: 0.2867 - accuracy: 0.8793 - val_loss: 0.4082 - val_accuracy: 0.8410\n",
      "Epoch 96/100\n",
      "536/536 [==============================] - 2s 4ms/step - loss: 0.2863 - accuracy: 0.8808 - val_loss: 0.3992 - val_accuracy: 0.8425\n",
      "Epoch 97/100\n",
      "536/536 [==============================] - 2s 4ms/step - loss: 0.2865 - accuracy: 0.8783 - val_loss: 0.4025 - val_accuracy: 0.8417\n",
      "Epoch 98/100\n",
      "536/536 [==============================] - 2s 4ms/step - loss: 0.2851 - accuracy: 0.8781 - val_loss: 0.4030 - val_accuracy: 0.8436\n",
      "Epoch 99/100\n",
      "536/536 [==============================] - 2s 4ms/step - loss: 0.2867 - accuracy: 0.8791 - val_loss: 0.4008 - val_accuracy: 0.8436\n",
      "Epoch 100/100\n",
      "536/536 [==============================] - 2s 4ms/step - loss: 0.2856 - accuracy: 0.8793 - val_loss: 0.4072 - val_accuracy: 0.8436\n"
     ]
    }
   ],
   "source": [
    "# Fitting the ANN to the Training set\n",
    "model_history=classifier.fit(X_train, y_train,validation_split=0.33, batch_size = 10,epochs=100)"
   ]
  },
  {
   "cell_type": "code",
   "execution_count": 22,
   "metadata": {
    "execution": {
     "iopub.execute_input": "2023-08-22T06:23:51.478204Z",
     "iopub.status.busy": "2023-08-22T06:23:51.477732Z",
     "iopub.status.idle": "2023-08-22T06:23:51.487153Z",
     "shell.execute_reply": "2023-08-22T06:23:51.485590Z",
     "shell.execute_reply.started": "2023-08-22T06:23:51.478166Z"
    }
   },
   "outputs": [
    {
     "name": "stdout",
     "output_type": "stream",
     "text": [
      "dict_keys(['loss', 'accuracy', 'val_loss', 'val_accuracy'])\n"
     ]
    }
   ],
   "source": [
    "# list all data in history\n",
    "\n",
    "print(model_history.history.keys())"
   ]
  },
  {
   "cell_type": "code",
   "execution_count": 23,
   "metadata": {
    "execution": {
     "iopub.execute_input": "2023-08-22T06:23:51.492980Z",
     "iopub.status.busy": "2023-08-22T06:23:51.491847Z",
     "iopub.status.idle": "2023-08-22T06:23:51.927000Z",
     "shell.execute_reply": "2023-08-22T06:23:51.925529Z",
     "shell.execute_reply.started": "2023-08-22T06:23:51.492932Z"
    }
   },
   "outputs": [
    {
     "data": {
      "image/png": "[encoded data removed]",
      "text/plain": [
       "<Figure size 640x480 with 1 Axes>"
      ]
     },
     "metadata": {},
     "output_type": "display_data"
    }
   ],
   "source": [
    "# summarize history for accuracy\n",
    "plt.plot(model_history.history['accuracy'])\n",
    "plt.plot(model_history.history['val_accuracy'])\n",
    "plt.title('model accuracy')\n",
    "plt.ylabel('accuracy')\n",
    "plt.xlabel('epoch')\n",
    "plt.legend(['train', 'test'], loc='upper left')\n",
    "plt.show()"
   ]
  },
  {
   "cell_type": "code",
   "execution_count": 24,
   "metadata": {
    "execution": {
     "iopub.execute_input": "2023-08-22T06:23:51.929171Z",
     "iopub.status.busy": "2023-08-22T06:23:51.928627Z",
     "iopub.status.idle": "2023-08-22T06:23:52.326378Z",
     "shell.execute_reply": "2023-08-22T06:23:52.324984Z",
     "shell.execute_reply.started": "2023-08-22T06:23:51.929110Z"
    }
   },
   "outputs": [
    {
     "data": {
      "image/png": "[encoded data removed]",
      "text/plain": [
       "<Figure size 640x480 with 1 Axes>"
      ]
     },
     "metadata": {},
     "output_type": "display_data"
    }
   ],
   "source": [
    "# summarize history for loss\n",
    "plt.plot(model_history.history['loss'])\n",
    "plt.plot(model_history.history['val_loss'])\n",
    "plt.title('model loss')\n",
    "plt.ylabel('loss')\n",
    "plt.xlabel('epoch')\n",
    "plt.legend(['train', 'test'], loc='upper left')\n",
    "plt.show()"
   ]
  },
  {
   "cell_type": "code",
   "execution_count": 25,
   "metadata": {
    "execution": {
     "iopub.execute_input": "2023-08-22T06:23:52.329619Z",
     "iopub.status.busy": "2023-08-22T06:23:52.328236Z",
     "iopub.status.idle": "2023-08-22T06:23:52.335708Z",
     "shell.execute_reply": "2023-08-22T06:23:52.334593Z",
     "shell.execute_reply.started": "2023-08-22T06:23:52.329548Z"
    }
   },
   "outputs": [],
   "source": [
    "# Part 3 - Making the predictions and evaluating the model"
   ]
  },
  {
   "cell_type": "code",
   "execution_count": 26,
   "metadata": {
    "execution": {
     "iopub.execute_input": "2023-08-22T06:23:52.338680Z",
     "iopub.status.busy": "2023-08-22T06:23:52.337229Z",
     "iopub.status.idle": "2023-08-22T06:23:52.767332Z",
     "shell.execute_reply": "2023-08-22T06:23:52.764187Z",
     "shell.execute_reply.started": "2023-08-22T06:23:52.338617Z"
    }
   },
   "outputs": [
    {
     "name": "stdout",
     "output_type": "stream",
     "text": [
      "63/63 [==============================] - 0s 2ms/step\n"
     ]
    }
   ],
   "source": [
    "# Predicting the Test set results\n",
    "y_pred = classifier.predict(X_test)\n",
    "y_pred = (y_pred > 0.5)"
   ]
  },
  {
   "cell_type": "code",
   "execution_count": 27,
   "metadata": {
    "execution": {
     "iopub.execute_input": "2023-08-22T06:23:52.770667Z",
     "iopub.status.busy": "2023-08-22T06:23:52.769991Z",
     "iopub.status.idle": "2023-08-22T06:23:52.793602Z",
     "shell.execute_reply": "2023-08-22T06:23:52.791977Z",
     "shell.execute_reply.started": "2023-08-22T06:23:52.770623Z"
    }
   },
   "outputs": [
    {
     "name": "stdout",
     "output_type": "stream",
     "text": [
      "[[1469  126]\n",
      " [ 176  229]]\n"
     ]
    }
   ],
   "source": [
    "# Making the Confusion Matrix\n",
    "from sklearn.metrics import confusion_matrix\n",
    "cm = confusion_matrix(y_test, y_pred)\n",
    "print(cm)"
   ]
  },
  {
   "cell_type": "code",
   "execution_count": 32,
   "metadata": {
    "execution": {
     "iopub.execute_input": "2023-08-22T06:25:11.929338Z",
     "iopub.status.busy": "2023-08-22T06:25:11.928684Z",
     "iopub.status.idle": "2023-08-22T06:25:11.940625Z",
     "shell.execute_reply": "2023-08-22T06:25:11.939118Z",
     "shell.execute_reply.started": "2023-08-22T06:25:11.929296Z"
    }
   },
   "outputs": [
    {
     "name": "stdout",
     "output_type": "stream",
     "text": [
      "0.849\n"
     ]
    }
   ],
   "source": [
    "# Calculate the Accuracy\n",
    "from sklearn.metrics import accuracy_score\n",
    "score=accuracy_score(y_pred,y_test,normalize=True)\n",
    "print(score)"
   ]
  },
  {
   "cell_type": "code",
   "execution_count": null,
   "metadata": {},
   "outputs": [],
   "source": []
  }
 ],
 "metadata": {
  "kernelspec": {
   "display_name": "Python 3 (ipykernel)",
   "language": "python",
   "name": "python3"
  },
  "language_info": {
   "codemirror_mode": {
    "name": "ipython",
    "version": 3
   },
   "file_extension": ".py",
   "mimetype": "text/x-python",
   "name": "python",
   "nbconvert_exporter": "python",
   "pygments_lexer": "ipython3",
   "version": "3.11.1"
  }
 },
 "nbformat": 4,
 "nbformat_minor": 4
}
